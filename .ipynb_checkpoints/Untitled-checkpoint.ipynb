{
 "cells": [
  {
   "cell_type": "code",
   "execution_count": 2,
   "metadata": {},
   "outputs": [
    {
     "ename": "ModuleNotFoundError",
     "evalue": "No module named 'pulp'",
     "output_type": "error",
     "traceback": [
      "\u001b[0;31m---------------------------------------------------------------------------\u001b[0m",
      "\u001b[0;31mModuleNotFoundError\u001b[0m                       Traceback (most recent call last)",
      "\u001b[0;32m<ipython-input-2-85a06411c0a7>\u001b[0m in \u001b[0;36m<module>\u001b[0;34m()\u001b[0m\n\u001b[0;32m----> 1\u001b[0;31m \u001b[0;32mfrom\u001b[0m \u001b[0mscanalytics\u001b[0m \u001b[0;32mimport\u001b[0m \u001b[0;34m*\u001b[0m\u001b[0;34m\u001b[0m\u001b[0m\n\u001b[0m\u001b[1;32m      2\u001b[0m \u001b[0;32mfrom\u001b[0m \u001b[0mpulp\u001b[0m \u001b[0;32mimport\u001b[0m \u001b[0;34m*\u001b[0m\u001b[0;34m\u001b[0m\u001b[0m\n\u001b[1;32m      3\u001b[0m \u001b[0;32mfrom\u001b[0m \u001b[0mIPython\u001b[0m\u001b[0;34m.\u001b[0m\u001b[0mdisplay\u001b[0m \u001b[0;32mimport\u001b[0m \u001b[0mdisplay\u001b[0m\u001b[0;34m\u001b[0m\u001b[0m\n\u001b[1;32m      4\u001b[0m \u001b[0mcwsa\u001b[0m \u001b[0;34m=\u001b[0m \u001b[0mCWSA\u001b[0m\u001b[0;34m(\u001b[0m\u001b[0;34m)\u001b[0m\u001b[0;34m\u001b[0m\u001b[0m\n\u001b[1;32m      5\u001b[0m \u001b[0mcwsa\u001b[0m\u001b[0;34m.\u001b[0m\u001b[0madd_dist\u001b[0m\u001b[0;34m(\u001b[0m\u001b[0;36m1\u001b[0m\u001b[0;34m,\u001b[0m\u001b[0;36m2\u001b[0m\u001b[0;34m,\u001b[0m\u001b[0;36m16.3\u001b[0m\u001b[0;34m)\u001b[0m\u001b[0;34m\u001b[0m\u001b[0m\n",
      "\u001b[0;32m~/MarkelyGithub/scanalytics/scanalytics.py\u001b[0m in \u001b[0;36m<module>\u001b[0;34m()\u001b[0m\n\u001b[1;32m      3\u001b[0m \u001b[0;32mfrom\u001b[0m \u001b[0mIPython\u001b[0m\u001b[0;34m.\u001b[0m\u001b[0mdisplay\u001b[0m \u001b[0;32mimport\u001b[0m \u001b[0mdisplay\u001b[0m\u001b[0;34m\u001b[0m\u001b[0m\n\u001b[1;32m      4\u001b[0m \u001b[0;32mimport\u001b[0m \u001b[0mpandas\u001b[0m \u001b[0;32mas\u001b[0m \u001b[0mpd\u001b[0m\u001b[0;34m\u001b[0m\u001b[0m\n\u001b[0;32m----> 5\u001b[0;31m \u001b[0;32mfrom\u001b[0m \u001b[0mpulp\u001b[0m \u001b[0;32mimport\u001b[0m \u001b[0;34m*\u001b[0m\u001b[0;34m\u001b[0m\u001b[0m\n\u001b[0m\u001b[1;32m      6\u001b[0m \u001b[0;34m\u001b[0m\u001b[0m\n\u001b[1;32m      7\u001b[0m \u001b[0;31m#Clarke-Wright Savings Algorithm\u001b[0m\u001b[0;34m\u001b[0m\u001b[0;34m\u001b[0m\u001b[0m\n",
      "\u001b[0;31mModuleNotFoundError\u001b[0m: No module named 'pulp'"
     ]
    }
   ],
   "source": [
    "from scanalytics import *\n",
    "from IPython.display import display\n",
    "cwsa = CWSA()\n",
    "cwsa.add_dist(1,2,16.3)\n",
    "cwsa.add_dist(1,3,16.5)\n",
    "cwsa.add_dist(1,4,20)\n",
    "cwsa.add_dist(1,5,19.6)\n",
    "cwsa.add_dist(1,6,17.9)\n",
    "cwsa.add_dist(1,7,9.3)\n",
    "cwsa.add_dist(1,'DC',12.7)\n",
    "cwsa.add_dist(2,3,7.2)\n",
    "cwsa.add_dist(2,4,14.9)\n",
    "cwsa.add_dist(2,5,16.6)\n",
    "cwsa.add_dist(2,6,16.6)\n",
    "cwsa.add_dist(2,7,12.7)\n",
    "cwsa.add_dist(2,'DC',11.5)\n",
    "cwsa.add_dist(3,4,8.9)\n",
    "cwsa.add_dist(3,5,10.1)\n",
    "cwsa.add_dist(3,6,11)\n",
    "cwsa.add_dist(3,7,10.8)\n",
    "cwsa.add_dist(3,'DC',9.8)\n",
    "cwsa.add_dist(4,5,7.3)\n",
    "cwsa.add_dist(4,6,13.4)\n",
    "cwsa.add_dist(4,7,19.1)\n",
    "cwsa.add_dist(4,'DC',17.5)\n",
    "cwsa.add_dist(5,6,12.9)\n",
    "cwsa.add_dist(5,7,16.4)\n",
    "cwsa.add_dist(5,'DC',16.1)\n",
    "cwsa.add_dist(6,7,9.4)\n",
    "cwsa.add_dist(6,'DC',17.4)\n",
    "cwsa.add_dist(7,'DC',3.6)\n",
    "\n",
    "CWSA_df, CWSA_savings_df = CWSA_savings(cwsa)\n",
    "display(CWSA_df)\n",
    "display(CWSA_savings_df)"
   ]
  },
  {
   "cell_type": "code",
   "execution_count": null,
   "metadata": {
    "collapsed": true
   },
   "outputs": [],
   "source": []
  }
 ],
 "metadata": {
  "kernelspec": {
   "display_name": "Python 3",
   "language": "python",
   "name": "python3"
  },
  "language_info": {
   "codemirror_mode": {
    "name": "ipython",
    "version": 3
   },
   "file_extension": ".py",
   "mimetype": "text/x-python",
   "name": "python",
   "nbconvert_exporter": "python",
   "pygments_lexer": "ipython3",
   "version": "3.6.1"
  }
 },
 "nbformat": 4,
 "nbformat_minor": 2
}
